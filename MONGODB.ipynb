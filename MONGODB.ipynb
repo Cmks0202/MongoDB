{
 "cells": [
  {
   "cell_type": "code",
   "execution_count": 23,
   "metadata": {},
   "outputs": [],
   "source": [
    "# importação da lib\n",
    "from pymongo import MongoClient\n",
    "import json\n",
    "\n",
    "# criando conexão com o MongoDB\n",
    "client = MongoClient('localhost',27017)\n",
    "\n",
    "# criação do bd\n",
    "db = client['dbnosql']\n",
    "print(f'Banco de dados\"{db.name}\" criado.')\n"
   ]
  },
  {
   "cell_type": "code",
   "execution_count": 84,
   "metadata": {},
   "outputs": [],
   "source": [
    "# carregando o arquivo json\n",
    "with open('collections.json') as file:\n",
    "    data = json.load(file)\n",
    "\n",
    "\n",
    "# inserção dos dados no banco \n",
    "for collection_name, documents in data.items():\n",
    "    collection = db[collection_name]\n",
    "    collection.insert_many(documents)\n",
    "\n",
    "print(\"Dados inseridos com sucesso.\")"
   ]
  },
  {
   "cell_type": "code",
   "execution_count": 86,
   "metadata": {},
   "outputs": [],
   "source": [
    "#selecionando a coleção\n",
    "collectionPedido = db['collectionPedido']\n",
    "\n",
    "# atualizando o preço de venda dos produtos para 2x o valor atual de venda\n",
    "atualizacaoPrecoVenda = {\"$mul\":{\"precoUnit\":2}} \n",
    "resultado = collectionPedido.update_many({},atualizacaoPrecoVenda)\n"
   ]
  },
  {
   "cell_type": "code",
   "execution_count": 87,
   "metadata": {},
   "outputs": [],
   "source": [
    "#selecionando a coleção\n",
    "collectionProduto = db['collectionProduto']\n",
    "\n",
    "# diminuir o preço de custo dos produtos em 25%\n",
    "atualizacaoPrecoCusto= {\"$mul\":{\"precoproduto\":0.75}} \n",
    "resultado = collectionProduto.update_many({},atualizacaoPrecoCusto)\n"
   ]
  },
  {
   "cell_type": "code",
   "execution_count": 88,
   "metadata": {},
   "outputs": [],
   "source": [
    "\n",
    "# empregado específico para atualizar seu salário para 15000\n",
    "\n",
    "#selecionando a coleção\n",
    "collectionEmpregado = db['collectionEmpregado']\n",
    "\n",
    "# definindo o filtro para encontrar o documento que será atualizado\n",
    "filtro = {\"nome\": \"Isabela Souza\"} \n",
    "\n",
    "# definindo a atualização para atualizar o campo salário\n",
    "novo_salario =  15000\n",
    "atualizacaoSalarial = {\"$set\": {\"sal\": novo_salario}}\n",
    "\n",
    "# setando a atualização\n",
    "resultado = collectionEmpregado.update_one(filtro, atualizacaoSalarial)\n",
    "\n",
    "\n"
   ]
  },
  {
   "cell_type": "code",
   "execution_count": 89,
   "metadata": {},
   "outputs": [],
   "source": [
    "# Atualizando os registros sindicais de empregados do sexo feminino\n",
    "\n",
    "#selecionando a coleção\n",
    "collectionEmpregado = db['collectionEmpregado']\n",
    "\n",
    "\n",
    "# definindo o filtro para encontrar as empregadas do sexo feminino\n",
    "filtro = {\"sexo\": \"feminino\"} \n",
    "\n",
    "# definindo a atualização para mudar o campo status sindical para S\n",
    "atualizacao = {\"$set\": {\"status_sindical\": \"S\"}}  \n",
    "\n",
    "# realizando a atualização apenas das empregadas do sexo feminino\n",
    "resultado = collectionEmpregado.update_many(filtro, atualizacao)\n"
   ]
  },
  {
   "cell_type": "code",
   "execution_count": 117,
   "metadata": {},
   "outputs": [],
   "source": [
    "# deleção da collection \n",
    "EmpregadocollectionEmpregado.drop()\n"
   ]
  },
  {
   "cell_type": "markdown",
   "metadata": {},
   "source": [
    "Código para retorno de dados."
   ]
  },
  {
   "cell_type": "code",
   "execution_count": null,
   "metadata": {},
   "outputs": [],
   "source": [
    "# encontrando vários registros\n",
    "for pesquisarFunc in collectionEmpregado.find():\n",
    "    print(pesquisarFunc)\n",
    "\n",
    "\n",
    "\n",
    "\n",
    "\n"
   ]
  },
  {
   "cell_type": "code",
   "execution_count": null,
   "metadata": {},
   "outputs": [],
   "source": []
  }
 ],
 "metadata": {
  "kernelspec": {
   "display_name": "base",
   "language": "python",
   "name": "python3"
  },
  "language_info": {
   "codemirror_mode": {
    "name": "ipython",
    "version": 3
   },
   "file_extension": ".py",
   "mimetype": "text/x-python",
   "name": "python",
   "nbconvert_exporter": "python",
   "pygments_lexer": "ipython3",
   "version": "3.9.12"
  },
  "orig_nbformat": 4
 },
 "nbformat": 4,
 "nbformat_minor": 2
}
